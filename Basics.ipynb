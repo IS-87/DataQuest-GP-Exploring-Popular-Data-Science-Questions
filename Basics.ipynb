{
 "cells": [
  {
   "cell_type": "markdown",
   "metadata": {},
   "source": [
    "## DataQuest Guided Project"
   ]
  },
  {
   "cell_type": "markdown",
   "metadata": {},
   "source": [
    "## Exploring Popular Data Science Questions"
   ]
  },
  {
   "cell_type": "markdown",
   "metadata": {},
   "source": [
    "### Navigation"
   ]
  },
  {
   "cell_type": "markdown",
   "metadata": {},
   "source": [
    "[Introduction](#Introduction)\n",
    "\n",
    "[Stack Exchange Site Features](#Stack-Exchange-Features)\n",
    "\n",
    "[Exploring the Database](#Explore-the-database-and-its-tables)\n",
    "\n",
    "[Analyzing Genre Popularity](#Genre-Popularity)\n",
    "\n",
    "[Analyzing Sales Agent Performance](#Analyzing-Sales-Agent-Performance)\n",
    "\n",
    "[Analyzing Purchases by Country](#Purchases-by-Country)\n",
    "\n",
    "[Analyzing Purchases of Individual Tracks and Full Albums](#Purchases-of-Individual-Tracks-and-Full-Albums)\n",
    "\n",
    "[Finding the Artist Featured in Most Playlists](#Finding-the-Artist-Featured-in-Most-Playlists)\n",
    "\n",
    "[Analyzing Tracks Purchased and Not Purchased](#Tracks-Purchased-and-Not-Purchased)\n",
    "\n",
    "[Analyzing Tracks Available and Sales Popularity](#Comparing-Tracks-Available-and-Sales-Popularity)\n",
    "\n",
    "[Analyzing the Effect of File Protection on Sales](#Effect-of-File-Protection-on-Sales)\n",
    "\n",
    "[Conclusion](#Conclusion)"
   ]
  },
  {
   "cell_type": "markdown",
   "metadata": {},
   "source": [
    "### Introduction"
   ]
  },
  {
   "cell_type": "markdown",
   "metadata": {},
   "source": [
    "The goal of this project is to figure out the best topic to write about for a company that creates data science content. There is more than one approach to address our goal because there is no single definition of \"best\". The approach we will take here is to investigate popular topics posted on the [Data Science Stack Exchange (DSSE)](https://datascience.stackexchange.com/).\n",
    "\n",
    "As of the time of this writing (1-21-21), 67% of questions posted to DSSE were answered according to the [list of Stack Exchange sites](https://stackexchange.com/sites?view=list#percentanswered). The list contains 176 sites (you can get this by viewing the page source in Chrome browser and searching for string `class=\"site-icon`. My search box found 176 matches, a quick use of the text search feature to web scrape useful information. Other browsers may be capable of showing you the number of matches as well). \n",
    "\n",
    "DSSE ranks 13th from the bottom in the list of 176 sites in percentage of questions answered. This may indicate an additional opportunity to write content on topics that were asked about and went unanswered."
   ]
  },
  {
   "cell_type": "markdown",
   "metadata": {},
   "source": [
    "### Stack Exchange Features"
   ]
  },
  {
   "cell_type": "markdown",
   "metadata": {},
   "source": [
    "Before we go deeper, it is important to have a basic understanding of how a Stack Exchange site works. Simply put, any given Stack Exchange site is a question-answer site dedicated to a topic in a variety of categories, such as technology, culture, language, science, recreation, professional, and business. Here are some additional points explaining how a site works:\n",
    "\n",
    "* Any user can ask a question, and any user can answer\n",
    "* Questions and answers can receive upvotes and downvotes from users\n",
    "* The default sorting method for questions is to show new questions or replies at the top\n",
    "* \"Hot\" sorting method allows to sort questions by the number of answers, views, and votes instead\n",
    "* Active and helpful users earn reputation points\n",
    "* Questions have to be on topic\n",
    "* Subjective questions are discouraged unless they are constructive, for example they may invite answers that explain \"Why\" and \"How\", or the sharing of experiences over opinions\n",
    "* Questions with a scope that is too broad or with a goal to start a discussion rather than look for an answer are not welcomed\n",
    "* Duplicate questions are marked as such by site's moderators\n",
    "\n",
    "DSSE home page has a number of elements besides the questions list:\n",
    "\n",
    "* search bar with text input\n",
    "* links to tags, users, unanswered questions, and jobs (not all sites have a job board)\n",
    "* links to popular questions from other sites\n",
    "* links to site-specific chat where questions and discussion rules are more relaxed\n",
    "\n",
    "Tags and unanswered question links may be useful in reaching our goal. We may take a two-prong approach of looking at popular tags with answers, and popular tags with no answers.\n",
    "\n",
    "Each question page has additional elements besides the question itself:\n",
    "\n",
    "* upvote / downvote icons\n",
    "* number of views - this may be useful in reaching our goal\n",
    "* comments from other users that are tied to the question - usually requests for additional information or clarification\n",
    "* answers from other users intending to answer the question at hand\n",
    "\n",
    "We can keep things simple and analyze tags by employing the same indicators that are present next to questions:\n",
    "\n",
    "* Number of votes\n",
    "* Number of answers\n",
    "* Number of views"
   ]
  },
  {
   "cell_type": "markdown",
   "metadata": {},
   "source": [
    "### Stack Exchange Data Explorer (SEDE)"
   ]
  },
  {
   "attachments": {},
   "cell_type": "markdown",
   "metadata": {},
   "source": [
    "Stack Exchange provides a public-facing database for each site that enables efficient data analysis without having to scrape the sites.\n",
    "\n",
    "Here is the link to the [Data Science Stack Exchange Data Explorer](https://data.stackexchange.com/datascience/query/new) that accepts Transact-SQL queries. Transact-SQL is a SQL dialect that is different from SQLite.\n",
    "\n",
    "The database schema is below.\n",
    "\n",
    "View full resolution of the database schema [here](https://i.stack.imgur.com/AyIkW.png)"
   ]
  },
  {
   "cell_type": "markdown",
   "metadata": {},
   "source": [
    "![Database Schema](https://i.stack.imgur.com/AyIkW.png)"
   ]
  },
  {
   "cell_type": "markdown",
   "metadata": {},
   "source": [
    "Let's run a query to view all the available tables:\n",
    "\n",
    "<code>\n",
    "SELECT *\n",
    "  FROM INFORMATION_SCHEMA.TABLES;\n",
    "</code>\n",
    "\n",
    "The following is a preview of the list of tables returned:\n",
    "\n",
    "|TABLE_CATALOG|TABLE_SCHEMA|TABLE_NAME|TABLE_TYPE|\n",
    "|---|---|---|---|\n",
    "|StackExchange.Datascience|dbo|Users|BASE TABLE|\n",
    "|StackExchange.Datascience|dbo|PostTypes|BASE TABLE|\n",
    "|StackExchange.Datascience|dbo|PostsWithDeleted|BASE TABLE|\n",
    "|StackExchange.Datascience|dbo|PostHistoryTypes|BASE TABLE|\n",
    "|StackExchange.Datascience|dbo|PostHistory|BASE TABLE|\n",
    "|StackExchange.Datascience|dbo|VoteTypes|BASE TABLE|\n",
    "|StackExchange.Datascience|dbo|Votes|BASE TABLE|"
   ]
  },
  {
   "cell_type": "markdown",
   "metadata": {},
   "source": [
    "These are some tables that may be useful. \"Posts\" refer to questions as well as answers, among other actions users can take on the site:\n",
    "\n",
    "* Posts\n",
    "* PostTags\n",
    "* PostTypes\n",
    "* PostFeedback\n",
    "* Tags\n",
    "* VoteTypes"
   ]
  },
  {
   "attachments": {},
   "cell_type": "markdown",
   "metadata": {},
   "source": [
    "Query to view top 5 most frequently used tags:\n",
    "\n",
    "<code>\n",
    "SELECT TOP 5 *\n",
    "  FROM Tags\n",
    " ORDER BY Count DESC;\n",
    "</code>\n",
    "\n",
    "|Id|TagName|Count|ExcerptPostId|WikiPostId|\n",
    "|---|---|---|---|---|\n",
    "|2|machine-learning|8546|4909|4908|\n",
    "|46|python|4960|5523|5522|\n",
    "|81|neural-network|3553|8885|8884|\n",
    "|194|deep-learning|3544|8956|8955|\n",
    "|77|classification|2425|4911|4910|"
   ]
  },
  {
   "attachments": {},
   "cell_type": "markdown",
   "metadata": {},
   "source": [
    "Query to view post types. Question (Id 1) and Answer (Id 2) may be of interest to us:\n",
    "\n",
    "<code>\n",
    "SELECT *\n",
    "  FROM PostTypes;\n",
    "</code>\n",
    "\n",
    "|Id|Name|\n",
    "|---|---|\n",
    "|1|Question|\n",
    "|2|Answer|\n",
    "|3|Wiki|\n",
    "|4|TagWikiExcerpt|\n",
    "|5|TagWiki|\n",
    "|6|ModeratorNomination|\n",
    "|7|WikiPlaceholder|\n",
    "|8|PrivilegeWiki|"
   ]
  },
  {
   "attachments": {},
   "cell_type": "markdown",
   "metadata": {},
   "source": [
    "Query to view vote types. UpMod (Id 2) and DownMod (Id 3) may be of interest to us:\n",
    "\n",
    "<code>\n",
    "SELECT *\n",
    "  FROM VoteTypes;\n",
    "</code>\n",
    "\n",
    "|Id|Name|\n",
    "|---|---|\n",
    "|1|AcceptedByOriginator|\n",
    "|2|UpMod|\n",
    "|3|DownMod|\n",
    "|4|Offensive|\n",
    "|5|Favorite|\n",
    "|6|Close|\n",
    "|...||"
   ]
  },
  {
   "attachments": {},
   "cell_type": "markdown",
   "metadata": {},
   "source": [
    "Query to preview votes by post:\n",
    "\n",
    "<code>\n",
    "SELECT TOP 5 *\n",
    "  FROM PostFeedback;\n",
    "</code>\n",
    "\n",
    "|Id|PostId|IsAnonymous|VoteTypeId|CreationDate|\n",
    "|---|---|---|---|---|\n",
    "|1|135|TRUE|3|6/1/2014  1:10:04 AM|\n",
    "|2|135|TRUE|3|6/9/2014  9:48:21 PM|\n",
    "|3|41|TRUE|2|6/9/2014  10:09:54 PM|\n",
    "|4|242|TRUE|2|6/9/2014  11:57:14 PM|\n",
    "|5|250|TRUE|2|6/10/2014  6:49:31 AM|"
   ]
  },
  {
   "attachments": {},
   "cell_type": "markdown",
   "metadata": {},
   "source": [
    "Query to preview post tags:\n",
    "\n",
    "<code>\n",
    "SELECT TOP 5 *\n",
    "  FROM PostTags;\n",
    "</code>\n",
    "\n",
    "|PostId|TagId|\n",
    "|---|---|\n",
    "|14|1|\n",
    "|81|1|\n",
    "|370|1|\n",
    "|474|1|\n",
    "|717|1|"
   ]
  },
  {
   "cell_type": "markdown",
   "metadata": {},
   "source": [
    "It is interesting to note that created queries can be saved and publicly accessible with voting enabled. The \"Queries\" button lists featured queries with a large number of views and \"favorites\".\n"
   ]
  },
  {
   "cell_type": "markdown",
   "metadata": {},
   "source": [
    "## 4"
   ]
  },
  {
   "cell_type": "code",
   "execution_count": null,
   "metadata": {},
   "outputs": [],
   "source": []
  },
  {
   "cell_type": "code",
   "execution_count": null,
   "metadata": {},
   "outputs": [],
   "source": []
  },
  {
   "cell_type": "markdown",
   "metadata": {},
   "source": [
    "## 5"
   ]
  },
  {
   "cell_type": "code",
   "execution_count": null,
   "metadata": {},
   "outputs": [],
   "source": []
  },
  {
   "cell_type": "code",
   "execution_count": null,
   "metadata": {},
   "outputs": [],
   "source": []
  },
  {
   "cell_type": "markdown",
   "metadata": {},
   "source": [
    "## 6"
   ]
  },
  {
   "cell_type": "code",
   "execution_count": null,
   "metadata": {},
   "outputs": [],
   "source": []
  },
  {
   "cell_type": "code",
   "execution_count": null,
   "metadata": {},
   "outputs": [],
   "source": []
  },
  {
   "cell_type": "markdown",
   "metadata": {},
   "source": [
    "## 7"
   ]
  },
  {
   "cell_type": "code",
   "execution_count": null,
   "metadata": {},
   "outputs": [],
   "source": []
  },
  {
   "cell_type": "code",
   "execution_count": null,
   "metadata": {},
   "outputs": [],
   "source": []
  },
  {
   "cell_type": "markdown",
   "metadata": {},
   "source": [
    "## 8"
   ]
  },
  {
   "cell_type": "code",
   "execution_count": null,
   "metadata": {},
   "outputs": [],
   "source": []
  },
  {
   "cell_type": "code",
   "execution_count": null,
   "metadata": {},
   "outputs": [],
   "source": []
  },
  {
   "cell_type": "markdown",
   "metadata": {},
   "source": [
    "## 9"
   ]
  },
  {
   "cell_type": "code",
   "execution_count": null,
   "metadata": {},
   "outputs": [],
   "source": []
  },
  {
   "cell_type": "code",
   "execution_count": null,
   "metadata": {},
   "outputs": [],
   "source": []
  },
  {
   "cell_type": "markdown",
   "metadata": {},
   "source": [
    "## 10"
   ]
  },
  {
   "cell_type": "code",
   "execution_count": null,
   "metadata": {},
   "outputs": [],
   "source": []
  },
  {
   "cell_type": "code",
   "execution_count": null,
   "metadata": {},
   "outputs": [],
   "source": []
  },
  {
   "cell_type": "markdown",
   "metadata": {},
   "source": [
    "## 11"
   ]
  },
  {
   "cell_type": "code",
   "execution_count": null,
   "metadata": {},
   "outputs": [],
   "source": []
  },
  {
   "cell_type": "code",
   "execution_count": null,
   "metadata": {},
   "outputs": [],
   "source": []
  },
  {
   "cell_type": "markdown",
   "metadata": {},
   "source": [
    "## 12"
   ]
  },
  {
   "cell_type": "code",
   "execution_count": null,
   "metadata": {},
   "outputs": [],
   "source": []
  },
  {
   "cell_type": "code",
   "execution_count": null,
   "metadata": {},
   "outputs": [],
   "source": []
  },
  {
   "cell_type": "markdown",
   "metadata": {},
   "source": [
    "## 13"
   ]
  },
  {
   "cell_type": "code",
   "execution_count": null,
   "metadata": {},
   "outputs": [],
   "source": []
  },
  {
   "cell_type": "code",
   "execution_count": null,
   "metadata": {},
   "outputs": [],
   "source": []
  },
  {
   "cell_type": "markdown",
   "metadata": {},
   "source": [
    "## 14"
   ]
  },
  {
   "cell_type": "code",
   "execution_count": null,
   "metadata": {},
   "outputs": [],
   "source": []
  },
  {
   "cell_type": "code",
   "execution_count": null,
   "metadata": {},
   "outputs": [],
   "source": []
  },
  {
   "cell_type": "markdown",
   "metadata": {},
   "source": [
    "## 15"
   ]
  },
  {
   "cell_type": "code",
   "execution_count": null,
   "metadata": {},
   "outputs": [],
   "source": []
  },
  {
   "cell_type": "code",
   "execution_count": null,
   "metadata": {},
   "outputs": [],
   "source": []
  }
 ],
 "metadata": {
  "kernelspec": {
   "display_name": "Python 3",
   "language": "python",
   "name": "python3"
  },
  "language_info": {
   "codemirror_mode": {
    "name": "ipython",
    "version": 3
   },
   "file_extension": ".py",
   "mimetype": "text/x-python",
   "name": "python",
   "nbconvert_exporter": "python",
   "pygments_lexer": "ipython3",
   "version": "3.7.3"
  }
 },
 "nbformat": 4,
 "nbformat_minor": 4
}
