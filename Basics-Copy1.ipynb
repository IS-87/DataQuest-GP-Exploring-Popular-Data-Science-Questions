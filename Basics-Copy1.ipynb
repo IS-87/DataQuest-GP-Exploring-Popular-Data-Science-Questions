{
 "cells": [
  {
   "cell_type": "markdown",
   "metadata": {},
   "source": [
    "## DataQuest Guided Project"
   ]
  },
  {
   "cell_type": "markdown",
   "metadata": {},
   "source": [
    "## Exploring Popular Data Science Questions"
   ]
  },
  {
   "cell_type": "markdown",
   "metadata": {},
   "source": [
    "### Navigation"
   ]
  },
  {
   "cell_type": "markdown",
   "metadata": {},
   "source": [
    "[Introduction](#Introduction)\n",
    "\n",
    "[Stack Exchange Site Features](#Stack-Exchange-Features)\n",
    "\n",
    "[Exploring the Database](#Explore-the-database-and-its-tables)\n",
    "\n",
    "[Analyzing Genre Popularity](#Genre-Popularity)\n",
    "\n",
    "[Analyzing Sales Agent Performance](#Analyzing-Sales-Agent-Performance)\n",
    "\n",
    "[Analyzing Purchases by Country](#Purchases-by-Country)\n",
    "\n",
    "[Analyzing Purchases of Individual Tracks and Full Albums](#Purchases-of-Individual-Tracks-and-Full-Albums)\n",
    "\n",
    "[Finding the Artist Featured in Most Playlists](#Finding-the-Artist-Featured-in-Most-Playlists)\n",
    "\n",
    "[Analyzing Tracks Purchased and Not Purchased](#Tracks-Purchased-and-Not-Purchased)\n",
    "\n",
    "[Analyzing Tracks Available and Sales Popularity](#Comparing-Tracks-Available-and-Sales-Popularity)\n",
    "\n",
    "[Analyzing the Effect of File Protection on Sales](#Effect-of-File-Protection-on-Sales)\n",
    "\n",
    "[Conclusion](#Conclusion)"
   ]
  },
  {
   "cell_type": "markdown",
   "metadata": {},
   "source": [
    "### Introduction"
   ]
  },
  {
   "cell_type": "markdown",
   "metadata": {},
   "source": [
    "The goal of this project is to figure out the best topic to write about for a company that creates data science content. There is more than one approach to address our goal because there is no single definition of \"best\". The approach we will take here is to investigate popular topics posted on the [Data Science Stack Exchange (DSSE)](https://datascience.stackexchange.com/).\n",
    "\n",
    "As of the time of this writing (1-21-21), 67% of questions posted to DSSE were answered according to the [list of Stack Exchange sites](https://stackexchange.com/sites?view=list#percentanswered). The list contains 176 sites (you can get this by viewing the page source in Chrome browser and searching for string `class=\"site-icon`. My search box found 176 matches, a quick use of the text search feature to web scrape useful information. Other browsers may be capable of showing you the number of matches as well). \n",
    "\n",
    "DSSE ranks 13th from the bottom in the list of 176 sites in percentage of questions answered. This may indicate an additional opportunity to write content on topics that were asked about and went unanswered."
   ]
  },
  {
   "cell_type": "markdown",
   "metadata": {},
   "source": [
    "### Stack Exchange Features"
   ]
  },
  {
   "cell_type": "markdown",
   "metadata": {},
   "source": [
    "Before we go deeper, it is important to have a basic understanding of how a Stack Exchange site works. Simply put, any given Stack Exchange site is a question-answer site dedicated to a topic in a variety of categories, such as technology, culture, language, science, recreation, professional, and business. Here are some additional points explaining how a site works:\n",
    "\n",
    "* Any user can ask a question, and any user can answer\n",
    "* Questions and answers can receive upvotes and downvotes from users\n",
    "* The default sorting method for questions is to show new questions or replies at the top\n",
    "* \"Hot\" sorting method allows to sort questions by the number of answers, views, and votes instead\n",
    "* Active and helpful users earn reputation points\n",
    "* Questions have to be on topic\n",
    "* Subjective questions are discouraged unless they are constructive, for example they may invite answers that explain \"Why\" and \"How\", or the sharing of experiences over opinions\n",
    "* Questions with a scope that is too broad or with a goal to start a discussion rather than look for an answer are not welcomed\n",
    "* Duplicate questions are marked as such by site's moderators\n",
    "\n",
    "DSSE home page has a number of elements besides the questions list:\n",
    "\n",
    "* search bar with text input\n",
    "* links to tags, users, unanswered questions, and jobs (not all sites have a job board)\n",
    "* links to popular questions from other sites\n",
    "* links to site-specific chat where questions and discussion rules are more relaxed\n",
    "\n",
    "Tags and unanswered question links may be useful in reaching our goal. We may take a two-prong approach of looking at popular tags with answers, and popular tags with no answers.\n",
    "\n",
    "Each question page has additional elements besides the question itself:\n",
    "\n",
    "* upvote / downvote icons\n",
    "* number of views - this may be useful in reaching our goal\n",
    "* comments from other users that are tied to the question - usually requests for additional information or clarification\n",
    "* answers from other users intending to answer the question at hand\n",
    "\n",
    "We can keep things simple and analyze tags by the following criteria:\n",
    "\n",
    "* Number of tag appearances\n",
    "* Number of views"
   ]
  },
  {
   "cell_type": "markdown",
   "metadata": {},
   "source": [
    "### Stack Exchange Data Explorer (SEDE)"
   ]
  },
  {
   "cell_type": "markdown",
   "metadata": {},
   "source": [
    "Stack Exchange provides a public-facing database for each site that enables efficient data analysis without having to scrape the sites.\n",
    "\n",
    "Here is the link to the [Data Science Stack Exchange Data Explorer](https://data.stackexchange.com/datascience/query/new) that accepts Transact-SQL queries. Transact-SQL is a SQL dialect that is different from SQLite.\n",
    "\n",
    "The database schema is below.\n",
    "\n",
    "View database schema in full resolution [here](https://i.stack.imgur.com/AyIkW.png)"
   ]
  },
  {
   "cell_type": "markdown",
   "metadata": {},
   "source": [
    "![Database Schema](https://i.stack.imgur.com/AyIkW.png)"
   ]
  },
  {
   "cell_type": "markdown",
   "metadata": {},
   "source": [
    "These are some tables that may be useful. \"Posts\" refer to questions as well as answers, among other actions users can take on the site:\n",
    "\n",
    "* Posts\n",
    "* PostTags\n",
    "* PostTypes\n",
    "* PostFeedback\n",
    "* Tags\n",
    "* VoteTypes"
   ]
  },
  {
   "cell_type": "markdown",
   "metadata": {},
   "source": [
    "Query to view top 5 most frequently used tags:\n",
    "\n",
    "<code>\n",
    "SELECT TOP 5 *\n",
    "  FROM Tags\n",
    " ORDER BY Count DESC;\n",
    "</code>\n",
    "\n",
    "|Id|TagName|Count|ExcerptPostId|WikiPostId|\n",
    "|---|---|---|---|---|\n",
    "|2|machine-learning|8546|4909|4908|\n",
    "|46|python|4960|5523|5522|\n",
    "|81|neural-network|3553|8885|8884|\n",
    "|194|deep-learning|3544|8956|8955|\n",
    "|77|classification|2425|4911|4910|"
   ]
  },
  {
   "cell_type": "markdown",
   "metadata": {},
   "source": [
    "Query to view post types. Question (Id 1) and Answer (Id 2) may be of interest to us:\n",
    "\n",
    "<code>\n",
    "SELECT *\n",
    "  FROM PostTypes;\n",
    "</code>\n",
    "\n",
    "|Id|Name|\n",
    "|---|---|\n",
    "|1|Question|\n",
    "|2|Answer|\n",
    "|3|Wiki|\n",
    "|4|TagWikiExcerpt|\n",
    "|5|TagWiki|\n",
    "|6|ModeratorNomination|\n",
    "|7|WikiPlaceholder|\n",
    "|8|PrivilegeWiki|"
   ]
  },
  {
   "cell_type": "markdown",
   "metadata": {},
   "source": [
    "Query to view vote types. UpMod (Id 2) and DownMod (Id 3) may be of interest to us:\n",
    "\n",
    "<code>\n",
    "SELECT *\n",
    "  FROM VoteTypes;\n",
    "</code>\n",
    "\n",
    "|Id|Name|\n",
    "|---|---|\n",
    "|1|AcceptedByOriginator|\n",
    "|2|UpMod|\n",
    "|3|DownMod|\n",
    "|4|Offensive|\n",
    "|5|Favorite|\n",
    "|6|Close|\n",
    "|...||"
   ]
  },
  {
   "cell_type": "markdown",
   "metadata": {},
   "source": [
    "Query to preview votes by post:\n",
    "\n",
    "<code>\n",
    "SELECT TOP 5 *\n",
    "  FROM PostFeedback;\n",
    "</code>\n",
    "\n",
    "|Id|PostId|IsAnonymous|VoteTypeId|CreationDate|\n",
    "|---|---|---|---|---|\n",
    "|1|135|TRUE|3|6/1/2014  1:10:04 AM|\n",
    "|2|135|TRUE|3|6/9/2014  9:48:21 PM|\n",
    "|3|41|TRUE|2|6/9/2014  10:09:54 PM|\n",
    "|4|242|TRUE|2|6/9/2014  11:57:14 PM|\n",
    "|5|250|TRUE|2|6/10/2014  6:49:31 AM|"
   ]
  },
  {
   "cell_type": "markdown",
   "metadata": {},
   "source": [
    "Query to preview post tags:\n",
    "\n",
    "<code>\n",
    "SELECT TOP 5 *\n",
    "  FROM PostTags;\n",
    "</code>\n",
    "\n",
    "|PostId|TagId|\n",
    "|---|---|\n",
    "|14|1|\n",
    "|81|1|\n",
    "|370|1|\n",
    "|474|1|\n",
    "|717|1|"
   ]
  },
  {
   "attachments": {},
   "cell_type": "markdown",
   "metadata": {},
   "source": [
    "Query to preview posts:\n",
    "\n",
    "<code>\n",
    "SELECT TOP 5 *\n",
    "  FROM PostFeedback;\n",
    "</code>\n",
    "\n",
    "|Id|PostTypeId|AcceptedAnswerId|ParentId|CreationDate|DeletionDate|Score|ViewCount|Body|OwnerUserId|OwnerDisplayName|LastEditorUserId|LastEditorDisplayName|LastEditDate|LastActivityDate|Title|Tags|AnswerCount|CommentCount|FavoriteCount|ClosedDate|CommunityOwnedDate|ContentLicense|\n",
    "|---|---|---|---|---|---|---|---|---|---|---|---|---|---|---|---|---|---|---|---|---|---|---|\n",
    "|48281|2||48269|3/31/2019  12:56:35 AM||2||I think th|26917||67328||3/31/2019  9:40:07 AM|3/31/2019  9:40:07 AM||||1||||CC BY-SA 4.0|\n",
    "|48282|1|||3/31/2019  2:03:57 AM||1|319|cv_split =|67437||201||4/7/2019  2:23:40 PM|4/7/2019  2:23:40 PM|The minimu|python data-mining cross-validation|0|1||||CC BY-SA 4.0|\n",
    "|48283|2||48263|3/31/2019  2:13:29 AM||1||We have <s|38892|||||3/31/2019  2:13:29 AM||||2||||CC BY-SA 4.0|\n",
    "|48285|2||48279|3/31/2019  5:45:42 AM||2||That's bec|14006|||||3/31/2019  5:45:42 AM||||0||||CC BY-SA 4.0|\n",
    "|48286|1|||3/31/2019  5:54:52 AM||1|854|The datase|70515||67971||3/31/2019  8:41:08 AM|3/31/2019  8:41:08 AM|Clustering|classification clustering multilabel-classification labels|0|10||||CC BY-SA 4.0|\n",
    "|48287|1|||3/31/2019  10:51:35 AM||0|1123|Is there a|66295|||||3/31/2019  10:51:35 AM|How to map|python tensorflow dataset annotation|0|0||||CC BY-SA 4.0|\n",
    "|48288|1|||3/31/2019  11:33:53 AM||1|389|I know sim|70522|||||3/31/2019  11:33:53 AM|Datanode n|apache-hadoop|0|0||||CC BY-SA 4.0|\n",
    "|48289|1|||3/31/2019  11:33:53 AM||1|140|I have a p|70525|||||3/31/2019  11:53:14 AM|Named Enti|machine-learning nlp data-science-model nltk|0|2||||CC BY-SA 4.0|\n",
    "|48290|1|48296||3/31/2019  12:57:04 PM||2|106|I am curre|70530|||||3/31/2019  3:57:12 PM|How long w|machine-learning classification clustering statistics|2|1||||CC BY-SA 4.0|\n",
    "|48291|2||937|3/31/2019  1:14:33 PM||1||Actually s|70535|||||3/31/2019  1:14:33 PM||||1||||CC BY-SA 4.0|"
   ]
  },
  {
   "attachments": {},
   "cell_type": "markdown",
   "metadata": {},
   "source": [
    "We need to limit our timeframe to ignore any old data that may be outdated and irrelevant to the question we are trying to answer.\n",
    "\n",
    "Query to view the most recent post creating date:\n",
    "\n",
    "<code>\n",
    "SELECT TOP 5 *\n",
    "  FROM PostTags;\n",
    "</code>\n",
    "\n",
    "|Results|\n",
    "|---|\n",
    "|2021-01-17 00:44:21\n",
    "\n",
    "It appears that we have data through Jan 16, 2021. Let's go ahead and analyze posts created after 2020 only."
   ]
  },
  {
   "attachments": {},
   "cell_type": "markdown",
   "metadata": {},
   "source": [
    "Query to select posts that are either questions (PostTypeId 1) or answers (2) data after Dec 31, 2019:\n",
    "\n",
    "<code>\n",
    "SELECT Id,\n",
    "       PostTypeId,\n",
    "       CreationDate,\n",
    "       Score,\n",
    "       ViewCount,\n",
    "       Tags,\n",
    "       AnswerCount,\n",
    "       FavoriteCount\n",
    "  FROM Posts\n",
    " WHERE (CreationDate BETWEEN '20200101' AND (SELECT MAX(CreationDate)\n",
    "                                               FROM Posts))\n",
    "   AND (PostTypeId BETWEEN 1 AND 2);\n",
    "</code>\n",
    "\n",
    "|Id|PostTypeId|CreationDate|Score|ViewCount|Tags|AnswerCount|FavoriteCount|\n",
    "|---|---|---|---|---|---|---|---|\n",
    "|80726|2|8/24/2020  12:47:49 PM|0|||||\n",
    "|80727|1|8/24/2020  1:27:36 PM|0|82|<feature-selection><feature-engineering><feature-scaling><dbscan><one-hot-encoding>|1||\n",
    "|80729|1|8/24/2020  2:06:32 PM|3|96|<neural-network><deep-learning><lstm><natural-language-process><gan>|2||\n",
    "|80730|1|8/24/2020  2:08:20 PM|1|44|<machine-learning><classification><logistic-regression><svm><one-hot-encoding>|1|1|\n",
    "|80731|1|8/24/2020  2:19:01 PM|9|201|<feature-selection><feature-engineering><predictor-importance>|2|1|\n",
    "|...||||||||\n",
    "    \n",
    "The data explorer allows query results to be explorted in a .csv format. Let's save this query result in a file named `2020_questions.csv`"
   ]
  },
  {
   "cell_type": "markdown",
   "metadata": {},
   "source": [
    "### Data Exploration in Pandas"
   ]
  },
  {
   "cell_type": "markdown",
   "metadata": {},
   "source": [
    "Load `2020_questions.csv` into a pandas dataframe for further exploration and analysis."
   ]
  },
  {
   "cell_type": "code",
   "execution_count": 75,
   "metadata": {},
   "outputs": [],
   "source": [
    "import numpy as np\n",
    "import pandas as pd\n",
    "\n",
    "posts_df = pd.read_csv('2020_questions.csv')\n",
    "posts_df['CreationDate'] = posts_df['CreationDate'].astype('datetime64')"
   ]
  },
  {
   "cell_type": "code",
   "execution_count": 76,
   "metadata": {},
   "outputs": [
    {
     "data": {
      "text/html": [
       "<div>\n",
       "<style scoped>\n",
       "    .dataframe tbody tr th:only-of-type {\n",
       "        vertical-align: middle;\n",
       "    }\n",
       "\n",
       "    .dataframe tbody tr th {\n",
       "        vertical-align: top;\n",
       "    }\n",
       "\n",
       "    .dataframe thead th {\n",
       "        text-align: right;\n",
       "    }\n",
       "</style>\n",
       "<table border=\"1\" class=\"dataframe\">\n",
       "  <thead>\n",
       "    <tr style=\"text-align: right;\">\n",
       "      <th></th>\n",
       "      <th>Id</th>\n",
       "      <th>PostTypeId</th>\n",
       "      <th>CreationDate</th>\n",
       "      <th>Score</th>\n",
       "      <th>ViewCount</th>\n",
       "      <th>Tags</th>\n",
       "      <th>AnswerCount</th>\n",
       "      <th>FavoriteCount</th>\n",
       "    </tr>\n",
       "  </thead>\n",
       "  <tbody>\n",
       "    <tr>\n",
       "      <th>0</th>\n",
       "      <td>80720</td>\n",
       "      <td>2</td>\n",
       "      <td>2020-08-24 08:43:00</td>\n",
       "      <td>3</td>\n",
       "      <td>NaN</td>\n",
       "      <td>NaN</td>\n",
       "      <td>NaN</td>\n",
       "      <td>NaN</td>\n",
       "    </tr>\n",
       "    <tr>\n",
       "      <th>1</th>\n",
       "      <td>80721</td>\n",
       "      <td>2</td>\n",
       "      <td>2020-08-24 08:54:00</td>\n",
       "      <td>1</td>\n",
       "      <td>NaN</td>\n",
       "      <td>NaN</td>\n",
       "      <td>NaN</td>\n",
       "      <td>NaN</td>\n",
       "    </tr>\n",
       "    <tr>\n",
       "      <th>2</th>\n",
       "      <td>80723</td>\n",
       "      <td>2</td>\n",
       "      <td>2020-08-24 09:36:00</td>\n",
       "      <td>0</td>\n",
       "      <td>NaN</td>\n",
       "      <td>NaN</td>\n",
       "      <td>NaN</td>\n",
       "      <td>NaN</td>\n",
       "    </tr>\n",
       "    <tr>\n",
       "      <th>3</th>\n",
       "      <td>80724</td>\n",
       "      <td>2</td>\n",
       "      <td>2020-08-24 12:01:00</td>\n",
       "      <td>0</td>\n",
       "      <td>NaN</td>\n",
       "      <td>NaN</td>\n",
       "      <td>NaN</td>\n",
       "      <td>NaN</td>\n",
       "    </tr>\n",
       "    <tr>\n",
       "      <th>4</th>\n",
       "      <td>80725</td>\n",
       "      <td>2</td>\n",
       "      <td>2020-08-24 12:03:00</td>\n",
       "      <td>0</td>\n",
       "      <td>NaN</td>\n",
       "      <td>NaN</td>\n",
       "      <td>NaN</td>\n",
       "      <td>NaN</td>\n",
       "    </tr>\n",
       "    <tr>\n",
       "      <th>5</th>\n",
       "      <td>80726</td>\n",
       "      <td>2</td>\n",
       "      <td>2020-08-24 12:47:00</td>\n",
       "      <td>0</td>\n",
       "      <td>NaN</td>\n",
       "      <td>NaN</td>\n",
       "      <td>NaN</td>\n",
       "      <td>NaN</td>\n",
       "    </tr>\n",
       "    <tr>\n",
       "      <th>6</th>\n",
       "      <td>80727</td>\n",
       "      <td>1</td>\n",
       "      <td>2020-08-24 13:27:00</td>\n",
       "      <td>0</td>\n",
       "      <td>82.0</td>\n",
       "      <td>&lt;feature-selection&gt;&lt;feature-engineering&gt;&lt;featu...</td>\n",
       "      <td>1.0</td>\n",
       "      <td>NaN</td>\n",
       "    </tr>\n",
       "    <tr>\n",
       "      <th>7</th>\n",
       "      <td>80729</td>\n",
       "      <td>1</td>\n",
       "      <td>2020-08-24 14:06:00</td>\n",
       "      <td>3</td>\n",
       "      <td>96.0</td>\n",
       "      <td>&lt;neural-network&gt;&lt;deep-learning&gt;&lt;lstm&gt;&lt;natural-...</td>\n",
       "      <td>2.0</td>\n",
       "      <td>NaN</td>\n",
       "    </tr>\n",
       "    <tr>\n",
       "      <th>8</th>\n",
       "      <td>80730</td>\n",
       "      <td>1</td>\n",
       "      <td>2020-08-24 14:08:00</td>\n",
       "      <td>1</td>\n",
       "      <td>44.0</td>\n",
       "      <td>&lt;machine-learning&gt;&lt;classification&gt;&lt;logistic-re...</td>\n",
       "      <td>1.0</td>\n",
       "      <td>1.0</td>\n",
       "    </tr>\n",
       "    <tr>\n",
       "      <th>9</th>\n",
       "      <td>80731</td>\n",
       "      <td>1</td>\n",
       "      <td>2020-08-24 14:19:00</td>\n",
       "      <td>9</td>\n",
       "      <td>201.0</td>\n",
       "      <td>&lt;feature-selection&gt;&lt;feature-engineering&gt;&lt;predi...</td>\n",
       "      <td>2.0</td>\n",
       "      <td>1.0</td>\n",
       "    </tr>\n",
       "  </tbody>\n",
       "</table>\n",
       "</div>"
      ],
      "text/plain": [
       "      Id  PostTypeId        CreationDate  Score  ViewCount  \\\n",
       "0  80720           2 2020-08-24 08:43:00      3        NaN   \n",
       "1  80721           2 2020-08-24 08:54:00      1        NaN   \n",
       "2  80723           2 2020-08-24 09:36:00      0        NaN   \n",
       "3  80724           2 2020-08-24 12:01:00      0        NaN   \n",
       "4  80725           2 2020-08-24 12:03:00      0        NaN   \n",
       "5  80726           2 2020-08-24 12:47:00      0        NaN   \n",
       "6  80727           1 2020-08-24 13:27:00      0       82.0   \n",
       "7  80729           1 2020-08-24 14:06:00      3       96.0   \n",
       "8  80730           1 2020-08-24 14:08:00      1       44.0   \n",
       "9  80731           1 2020-08-24 14:19:00      9      201.0   \n",
       "\n",
       "                                                Tags  AnswerCount  \\\n",
       "0                                                NaN          NaN   \n",
       "1                                                NaN          NaN   \n",
       "2                                                NaN          NaN   \n",
       "3                                                NaN          NaN   \n",
       "4                                                NaN          NaN   \n",
       "5                                                NaN          NaN   \n",
       "6  <feature-selection><feature-engineering><featu...          1.0   \n",
       "7  <neural-network><deep-learning><lstm><natural-...          2.0   \n",
       "8  <machine-learning><classification><logistic-re...          1.0   \n",
       "9  <feature-selection><feature-engineering><predi...          2.0   \n",
       "\n",
       "   FavoriteCount  \n",
       "0            NaN  \n",
       "1            NaN  \n",
       "2            NaN  \n",
       "3            NaN  \n",
       "4            NaN  \n",
       "5            NaN  \n",
       "6            NaN  \n",
       "7            NaN  \n",
       "8            1.0  \n",
       "9            1.0  "
      ]
     },
     "execution_count": 76,
     "metadata": {},
     "output_type": "execute_result"
    }
   ],
   "source": [
    "posts_df.head(10)"
   ]
  },
  {
   "cell_type": "markdown",
   "metadata": {},
   "source": [
    "Explore missing values by column"
   ]
  },
  {
   "cell_type": "code",
   "execution_count": 77,
   "metadata": {},
   "outputs": [
    {
     "name": "stdout",
     "output_type": "stream",
     "text": [
      "<class 'pandas.core.frame.DataFrame'>\n",
      "RangeIndex: 15286 entries, 0 to 15285\n",
      "Data columns (total 8 columns):\n",
      " #   Column         Non-Null Count  Dtype         \n",
      "---  ------         --------------  -----         \n",
      " 0   Id             15286 non-null  int64         \n",
      " 1   PostTypeId     15286 non-null  int64         \n",
      " 2   CreationDate   15286 non-null  datetime64[ns]\n",
      " 3   Score          15286 non-null  int64         \n",
      " 4   ViewCount      7956 non-null   float64       \n",
      " 5   Tags           7956 non-null   object        \n",
      " 6   AnswerCount    7956 non-null   float64       \n",
      " 7   FavoriteCount  958 non-null    float64       \n",
      "dtypes: datetime64[ns](1), float64(3), int64(3), object(1)\n",
      "memory usage: 955.5+ KB\n"
     ]
    }
   ],
   "source": [
    "posts_df.info()"
   ]
  },
  {
   "cell_type": "markdown",
   "metadata": {},
   "source": [
    "Changing float types to int will make our data operations faster. There is no reason for any numeric data in our dataframe to be in float format"
   ]
  },
  {
   "cell_type": "code",
   "execution_count": 79,
   "metadata": {},
   "outputs": [],
   "source": [
    "# posts_df['ViewCount'] = posts_df['ViewCount'].astype('int64')\n",
    "# posts_df['AnswerCount'] = posts_df['AnswerCount'].astype('int64')\n",
    "# posts_df['FavoriteCount'] = posts_df['FavoriteCount'].astype('int64')"
   ]
  },
  {
   "cell_type": "markdown",
   "metadata": {},
   "source": [
    "We have multiple columns with missing values, but they have something to do with the type of post. Let's confirm."
   ]
  },
  {
   "cell_type": "code",
   "execution_count": 80,
   "metadata": {},
   "outputs": [
    {
     "name": "stdout",
     "output_type": "stream",
     "text": [
      "<class 'pandas.core.frame.DataFrame'>\n",
      "Int64Index: 7956 entries, 6 to 15285\n",
      "Data columns (total 8 columns):\n",
      " #   Column         Non-Null Count  Dtype         \n",
      "---  ------         --------------  -----         \n",
      " 0   Id             7956 non-null   int64         \n",
      " 1   PostTypeId     7956 non-null   int64         \n",
      " 2   CreationDate   7956 non-null   datetime64[ns]\n",
      " 3   Score          7956 non-null   int64         \n",
      " 4   ViewCount      7956 non-null   float64       \n",
      " 5   Tags           7956 non-null   object        \n",
      " 6   AnswerCount    7956 non-null   float64       \n",
      " 7   FavoriteCount  958 non-null    float64       \n",
      "dtypes: datetime64[ns](1), float64(3), int64(3), object(1)\n",
      "memory usage: 559.4+ KB\n"
     ]
    }
   ],
   "source": [
    "posts_df.loc[posts_df['PostTypeId'] == 1].info()"
   ]
  },
  {
   "cell_type": "markdown",
   "metadata": {},
   "source": [
    "For PostTypeId 1 (Questions) we see that all columns have values except for the `FavoriteCount` column, which makes sense. In this case, we can replace NaNs with 0, which is the true number of times favorited."
   ]
  },
  {
   "cell_type": "code",
   "execution_count": 81,
   "metadata": {},
   "outputs": [
    {
     "name": "stdout",
     "output_type": "stream",
     "text": [
      "<class 'pandas.core.frame.DataFrame'>\n",
      "Int64Index: 7956 entries, 6 to 15285\n",
      "Data columns (total 8 columns):\n",
      " #   Column         Non-Null Count  Dtype         \n",
      "---  ------         --------------  -----         \n",
      " 0   Id             7956 non-null   int64         \n",
      " 1   PostTypeId     7956 non-null   int64         \n",
      " 2   CreationDate   7956 non-null   datetime64[ns]\n",
      " 3   Score          7956 non-null   int64         \n",
      " 4   ViewCount      7956 non-null   float64       \n",
      " 5   Tags           7956 non-null   object        \n",
      " 6   AnswerCount    7956 non-null   float64       \n",
      " 7   FavoriteCount  7956 non-null   float64       \n",
      "dtypes: datetime64[ns](1), float64(3), int64(3), object(1)\n",
      "memory usage: 559.4+ KB\n"
     ]
    }
   ],
   "source": [
    "mask_questions = posts_df['PostTypeId'] == 1\n",
    "mask_zero_favorites = posts_df['FavoriteCount'].isna()\n",
    "mask_combined = mask_questions & mask_zero_favorites\n",
    "posts_df.loc[mask_combined, 'FavoriteCount'] = 0\n",
    "\n",
    "posts_df.loc[posts_df['PostTypeId'] == 1].info()"
   ]
  },
  {
   "cell_type": "markdown",
   "metadata": {},
   "source": [
    "For PostTypeId 2 (answers) we see that ViewCount, Tags, AnswerCount, and FavoriteCount fields are disabled, which is by design. These fields only apply to questions"
   ]
  },
  {
   "cell_type": "code",
   "execution_count": 82,
   "metadata": {},
   "outputs": [
    {
     "name": "stdout",
     "output_type": "stream",
     "text": [
      "<class 'pandas.core.frame.DataFrame'>\n",
      "Int64Index: 7330 entries, 0 to 15284\n",
      "Data columns (total 8 columns):\n",
      " #   Column         Non-Null Count  Dtype         \n",
      "---  ------         --------------  -----         \n",
      " 0   Id             7330 non-null   int64         \n",
      " 1   PostTypeId     7330 non-null   int64         \n",
      " 2   CreationDate   7330 non-null   datetime64[ns]\n",
      " 3   Score          7330 non-null   int64         \n",
      " 4   ViewCount      0 non-null      float64       \n",
      " 5   Tags           0 non-null      object        \n",
      " 6   AnswerCount    0 non-null      float64       \n",
      " 7   FavoriteCount  0 non-null      float64       \n",
      "dtypes: datetime64[ns](1), float64(3), int64(3), object(1)\n",
      "memory usage: 515.4+ KB\n"
     ]
    }
   ],
   "source": [
    "posts_df.loc[posts_df['PostTypeId'] == 2].info()"
   ]
  },
  {
   "cell_type": "markdown",
   "metadata": {},
   "source": [
    "### Data Transformation"
   ]
  },
  {
   "cell_type": "markdown",
   "metadata": {},
   "source": [
    "We see that multiple tags are squeezed into one column. Since we are interested in analyzing tags, we should transpose this column from wide to long format. First we will replace `<` and `>` symbols to make this easier."
   ]
  },
  {
   "cell_type": "code",
   "execution_count": 83,
   "metadata": {},
   "outputs": [],
   "source": [
    "posts_df['Tags'] = posts_df['Tags'].str.replace('><', ',')\n",
    "posts_df['Tags'] = posts_df['Tags'].str.replace('<', '')\n",
    "posts_df['Tags'] = posts_df['Tags'].str.replace('>', '')"
   ]
  },
  {
   "cell_type": "markdown",
   "metadata": {},
   "source": [
    "Expand tags from one column into multiple columns"
   ]
  },
  {
   "cell_type": "code",
   "execution_count": 84,
   "metadata": {},
   "outputs": [],
   "source": [
    "post_ids = pd.DataFrame(posts_df['Id'])\n",
    "tags_df = pd.concat([posts_id, posts_df['Tags'].str.split(pat=',', expand=True)], axis=1)\n",
    "cols = [f'Tag_{col}' for col in tags_df.columns if col != 'Id']\n",
    "cols.insert(0, 'Id')\n",
    "tags_df.columns = cols"
   ]
  },
  {
   "cell_type": "markdown",
   "metadata": {},
   "source": [
    "Remove original tag column and merge with new tag columns"
   ]
  },
  {
   "cell_type": "code",
   "execution_count": 85,
   "metadata": {},
   "outputs": [],
   "source": [
    "posts_df.drop(columns='Tags', inplace=True)\n",
    "posts_df = posts_df.merge(tags_df, left_on='Id', right_on='Id', how='inner')"
   ]
  },
  {
   "cell_type": "code",
   "execution_count": 86,
   "metadata": {},
   "outputs": [
    {
     "data": {
      "text/plain": [
       "Index(['Id', 'PostTypeId', 'CreationDate', 'Score', 'ViewCount', 'AnswerCount',\n",
       "       'FavoriteCount', 'Tag_0', 'Tag_1', 'Tag_2', 'Tag_3', 'Tag_4'],\n",
       "      dtype='object')"
      ]
     },
     "execution_count": 86,
     "metadata": {},
     "output_type": "execute_result"
    }
   ],
   "source": [
    "posts_df.columns"
   ]
  },
  {
   "cell_type": "code",
   "execution_count": 87,
   "metadata": {},
   "outputs": [],
   "source": [
    "posts_df = posts_df.melt(id_vars=['Id', 'PostTypeId', 'CreationDate', 'Score', 'ViewCount', 'AnswerCount', 'FavoriteCount'], \n",
    "                          value_vars=['Tag_0', 'Tag_1', 'Tag_2', 'Tag_3', 'Tag_4'], value_name='Tag')\n",
    "posts_df.drop(columns='variable', inplace=True)"
   ]
  },
  {
   "cell_type": "markdown",
   "metadata": {},
   "source": [
    "Verify that our transformation worked as intended by filtering to one value from an earlier preview"
   ]
  },
  {
   "cell_type": "code",
   "execution_count": 88,
   "metadata": {},
   "outputs": [
    {
     "data": {
      "text/html": [
       "<div>\n",
       "<style scoped>\n",
       "    .dataframe tbody tr th:only-of-type {\n",
       "        vertical-align: middle;\n",
       "    }\n",
       "\n",
       "    .dataframe tbody tr th {\n",
       "        vertical-align: top;\n",
       "    }\n",
       "\n",
       "    .dataframe thead th {\n",
       "        text-align: right;\n",
       "    }\n",
       "</style>\n",
       "<table border=\"1\" class=\"dataframe\">\n",
       "  <thead>\n",
       "    <tr style=\"text-align: right;\">\n",
       "      <th></th>\n",
       "      <th>Id</th>\n",
       "      <th>PostTypeId</th>\n",
       "      <th>CreationDate</th>\n",
       "      <th>Score</th>\n",
       "      <th>ViewCount</th>\n",
       "      <th>AnswerCount</th>\n",
       "      <th>FavoriteCount</th>\n",
       "      <th>Tag</th>\n",
       "    </tr>\n",
       "  </thead>\n",
       "  <tbody>\n",
       "    <tr>\n",
       "      <th>6</th>\n",
       "      <td>80727</td>\n",
       "      <td>1</td>\n",
       "      <td>2020-08-24 13:27:00</td>\n",
       "      <td>0</td>\n",
       "      <td>82.0</td>\n",
       "      <td>1.0</td>\n",
       "      <td>0.0</td>\n",
       "      <td>feature-selection</td>\n",
       "    </tr>\n",
       "    <tr>\n",
       "      <th>15292</th>\n",
       "      <td>80727</td>\n",
       "      <td>1</td>\n",
       "      <td>2020-08-24 13:27:00</td>\n",
       "      <td>0</td>\n",
       "      <td>82.0</td>\n",
       "      <td>1.0</td>\n",
       "      <td>0.0</td>\n",
       "      <td>feature-engineering</td>\n",
       "    </tr>\n",
       "    <tr>\n",
       "      <th>30578</th>\n",
       "      <td>80727</td>\n",
       "      <td>1</td>\n",
       "      <td>2020-08-24 13:27:00</td>\n",
       "      <td>0</td>\n",
       "      <td>82.0</td>\n",
       "      <td>1.0</td>\n",
       "      <td>0.0</td>\n",
       "      <td>feature-scaling</td>\n",
       "    </tr>\n",
       "    <tr>\n",
       "      <th>45864</th>\n",
       "      <td>80727</td>\n",
       "      <td>1</td>\n",
       "      <td>2020-08-24 13:27:00</td>\n",
       "      <td>0</td>\n",
       "      <td>82.0</td>\n",
       "      <td>1.0</td>\n",
       "      <td>0.0</td>\n",
       "      <td>dbscan</td>\n",
       "    </tr>\n",
       "    <tr>\n",
       "      <th>61150</th>\n",
       "      <td>80727</td>\n",
       "      <td>1</td>\n",
       "      <td>2020-08-24 13:27:00</td>\n",
       "      <td>0</td>\n",
       "      <td>82.0</td>\n",
       "      <td>1.0</td>\n",
       "      <td>0.0</td>\n",
       "      <td>one-hot-encoding</td>\n",
       "    </tr>\n",
       "  </tbody>\n",
       "</table>\n",
       "</div>"
      ],
      "text/plain": [
       "          Id  PostTypeId        CreationDate  Score  ViewCount  AnswerCount  \\\n",
       "6      80727           1 2020-08-24 13:27:00      0       82.0          1.0   \n",
       "15292  80727           1 2020-08-24 13:27:00      0       82.0          1.0   \n",
       "30578  80727           1 2020-08-24 13:27:00      0       82.0          1.0   \n",
       "45864  80727           1 2020-08-24 13:27:00      0       82.0          1.0   \n",
       "61150  80727           1 2020-08-24 13:27:00      0       82.0          1.0   \n",
       "\n",
       "       FavoriteCount                  Tag  \n",
       "6                0.0    feature-selection  \n",
       "15292            0.0  feature-engineering  \n",
       "30578            0.0      feature-scaling  \n",
       "45864            0.0               dbscan  \n",
       "61150            0.0     one-hot-encoding  "
      ]
     },
     "execution_count": 88,
     "metadata": {},
     "output_type": "execute_result"
    }
   ],
   "source": [
    "posts_df[posts_df['Id'] == 80727]"
   ]
  },
  {
   "cell_type": "markdown",
   "metadata": {},
   "source": [
    "### Tag Data Summary"
   ]
  },
  {
   "cell_type": "markdown",
   "metadata": {},
   "source": [
    "Run pivot table to list tags with total number of appearances and total number of views"
   ]
  },
  {
   "cell_type": "code",
   "execution_count": 103,
   "metadata": {},
   "outputs": [],
   "source": [
    "tags_pt = posts_df.pivot_table(index='Tag', values='ViewCount', aggfunc=('size', 'sum'))"
   ]
  },
  {
   "cell_type": "markdown",
   "metadata": {},
   "source": [
    "Rename columns"
   ]
  },
  {
   "cell_type": "code",
   "execution_count": 104,
   "metadata": {},
   "outputs": [],
   "source": [
    "tags_pt.rename(columns={'size': 'Number of Appearances', 'sum': 'Sum of Views'}, inplace=True)"
   ]
  },
  {
   "cell_type": "markdown",
   "metadata": {},
   "source": [
    "Create a combined score by using min-max feature scaling on appearances and views, and sort by score"
   ]
  },
  {
   "cell_type": "code",
   "execution_count": 107,
   "metadata": {},
   "outputs": [
    {
     "data": {
      "text/html": [
       "<div>\n",
       "<style scoped>\n",
       "    .dataframe tbody tr th:only-of-type {\n",
       "        vertical-align: middle;\n",
       "    }\n",
       "\n",
       "    .dataframe tbody tr th {\n",
       "        vertical-align: top;\n",
       "    }\n",
       "\n",
       "    .dataframe thead th {\n",
       "        text-align: right;\n",
       "    }\n",
       "</style>\n",
       "<table border=\"1\" class=\"dataframe\">\n",
       "  <thead>\n",
       "    <tr style=\"text-align: right;\">\n",
       "      <th></th>\n",
       "      <th>Number of Appearances</th>\n",
       "      <th>Sum of Views</th>\n",
       "      <th>scaled_appearances</th>\n",
       "      <th>scaled_views</th>\n",
       "      <th>Score</th>\n",
       "    </tr>\n",
       "    <tr>\n",
       "      <th>Tag</th>\n",
       "      <th></th>\n",
       "      <th></th>\n",
       "      <th></th>\n",
       "      <th></th>\n",
       "      <th></th>\n",
       "    </tr>\n",
       "  </thead>\n",
       "  <tbody>\n",
       "    <tr>\n",
       "      <th>machine-learning</th>\n",
       "      <td>2319</td>\n",
       "      <td>255441.0</td>\n",
       "      <td>1.000000</td>\n",
       "      <td>1.000000</td>\n",
       "      <td>100.0</td>\n",
       "    </tr>\n",
       "    <tr>\n",
       "      <th>python</th>\n",
       "      <td>1493</td>\n",
       "      <td>249189.0</td>\n",
       "      <td>0.643658</td>\n",
       "      <td>0.975524</td>\n",
       "      <td>81.0</td>\n",
       "    </tr>\n",
       "    <tr>\n",
       "      <th>deep-learning</th>\n",
       "      <td>1141</td>\n",
       "      <td>111677.0</td>\n",
       "      <td>0.491803</td>\n",
       "      <td>0.437180</td>\n",
       "      <td>46.0</td>\n",
       "    </tr>\n",
       "    <tr>\n",
       "      <th>keras</th>\n",
       "      <td>711</td>\n",
       "      <td>146603.0</td>\n",
       "      <td>0.306299</td>\n",
       "      <td>0.573911</td>\n",
       "      <td>44.0</td>\n",
       "    </tr>\n",
       "    <tr>\n",
       "      <th>neural-network</th>\n",
       "      <td>911</td>\n",
       "      <td>87296.0</td>\n",
       "      <td>0.392580</td>\n",
       "      <td>0.341731</td>\n",
       "      <td>37.0</td>\n",
       "    </tr>\n",
       "    <tr>\n",
       "      <th>tensorflow</th>\n",
       "      <td>611</td>\n",
       "      <td>103655.0</td>\n",
       "      <td>0.263158</td>\n",
       "      <td>0.405774</td>\n",
       "      <td>33.0</td>\n",
       "    </tr>\n",
       "    <tr>\n",
       "      <th>scikit-learn</th>\n",
       "      <td>527</td>\n",
       "      <td>87657.0</td>\n",
       "      <td>0.226920</td>\n",
       "      <td>0.343144</td>\n",
       "      <td>29.0</td>\n",
       "    </tr>\n",
       "    <tr>\n",
       "      <th>classification</th>\n",
       "      <td>667</td>\n",
       "      <td>62465.0</td>\n",
       "      <td>0.287317</td>\n",
       "      <td>0.244520</td>\n",
       "      <td>27.0</td>\n",
       "    </tr>\n",
       "    <tr>\n",
       "      <th>nlp</th>\n",
       "      <td>547</td>\n",
       "      <td>67345.0</td>\n",
       "      <td>0.235548</td>\n",
       "      <td>0.263625</td>\n",
       "      <td>25.0</td>\n",
       "    </tr>\n",
       "    <tr>\n",
       "      <th>pandas</th>\n",
       "      <td>290</td>\n",
       "      <td>94660.0</td>\n",
       "      <td>0.124676</td>\n",
       "      <td>0.370560</td>\n",
       "      <td>25.0</td>\n",
       "    </tr>\n",
       "  </tbody>\n",
       "</table>\n",
       "</div>"
      ],
      "text/plain": [
       "                  Number of Appearances  Sum of Views  scaled_appearances  \\\n",
       "Tag                                                                         \n",
       "machine-learning                   2319      255441.0            1.000000   \n",
       "python                             1493      249189.0            0.643658   \n",
       "deep-learning                      1141      111677.0            0.491803   \n",
       "keras                               711      146603.0            0.306299   \n",
       "neural-network                      911       87296.0            0.392580   \n",
       "tensorflow                          611      103655.0            0.263158   \n",
       "scikit-learn                        527       87657.0            0.226920   \n",
       "classification                      667       62465.0            0.287317   \n",
       "nlp                                 547       67345.0            0.235548   \n",
       "pandas                              290       94660.0            0.124676   \n",
       "\n",
       "                  scaled_views  Score  \n",
       "Tag                                    \n",
       "machine-learning      1.000000  100.0  \n",
       "python                0.975524   81.0  \n",
       "deep-learning         0.437180   46.0  \n",
       "keras                 0.573911   44.0  \n",
       "neural-network        0.341731   37.0  \n",
       "tensorflow            0.405774   33.0  \n",
       "scikit-learn          0.343144   29.0  \n",
       "classification        0.244520   27.0  \n",
       "nlp                   0.263625   25.0  \n",
       "pandas                0.370560   25.0  "
      ]
     },
     "execution_count": 107,
     "metadata": {},
     "output_type": "execute_result"
    }
   ],
   "source": [
    "tags_pt['scaled_appearances'] = (tags_pt['Number of Appearances'] - tags_pt['Number of Appearances'].min()) / \\\n",
    "                            (tags_pt['Number of Appearances'].max() - tags_pt['Number of Appearances'].min())\n",
    "tags_pt['scaled_views'] = (tags_pt['Sum of Views'] - tags_pt['Sum of Views'].min()) / \\\n",
    "                              (tags_pt['Sum of Views'].max() - tags_pt['Sum of Views'].min())\n",
    "tags_pt['Score'] = round(((tags_pt['scaled_appearances']) * 0.5 + (tags_pt['scaled_views']) * 0.5) * 100, 0)\n",
    "tags_pt.sort_values(by='Score', ascending=False, inplace=True)\n",
    "tags_pt.head(10)"
   ]
  },
  {
   "cell_type": "markdown",
   "metadata": {},
   "source": [
    "### Data Visualization"
   ]
  },
  {
   "cell_type": "code",
   "execution_count": 147,
   "metadata": {},
   "outputs": [],
   "source": [
    "import matplotlib.pyplot as plt"
   ]
  },
  {
   "cell_type": "markdown",
   "metadata": {},
   "source": [
    "Create a plotting function"
   ]
  },
  {
   "cell_type": "code",
   "execution_count": 164,
   "metadata": {},
   "outputs": [],
   "source": [
    "def barplot(x_vals, y_vals, title):\n",
    "    ax = x_vals.plot(kind='barh', figsize=(10,10))\n",
    "    y_axis = ax.axes.get_yaxis()\n",
    "    y_axis.set_label_text('')\n",
    "    ax.set_title(title, {'fontsize': 16})\n",
    "    ax.set_yticklabels(y_vals, {'fontsize': 14})\n",
    "    ax.tick_params(axis='x', length=0, labelbottom=False)\n",
    "    ax.spines['right'].set_visible(False)\n",
    "    ax.spines['top'].set_visible(False)\n",
    "    ax.spines['left'].set_visible(False)\n",
    "    ax.spines['bottom'].set_visible(False)\n",
    "\n",
    "    rects = ax.patches\n",
    "\n",
    "    for rect, val in zip(rects, x_vals):    \n",
    "        text_x_coord = val - max(x_vals)/20\n",
    "        text_y_coord = rect.get_y() + 0.15\n",
    "        ax.text(text_x_coord, text_y_coord, str(val).replace('.0', ''), color='white', ha='center', va='bottom', fontsize=12)"
   ]
  },
  {
   "cell_type": "markdown",
   "metadata": {},
   "source": [
    "View top 10 tags by frequency (number of appearances on Data Science Stack Exchange after Dec 31, 2019)"
   ]
  },
  {
   "cell_type": "code",
   "execution_count": 165,
   "metadata": {},
   "outputs": [
    {
     "data": {
      "image/png": "[encoded data removed]",
      "text/plain": [
       "<Figure size 720x720 with 1 Axes>"
      ]
     },
     "metadata": {
      "needs_background": "light"
     },
     "output_type": "display_data"
    }
   ],
   "source": [
    "y_axis_values = tags_pt.sort_values(by='Number of Appearances', ascending=False).head(10).index[::-1]\n",
    "x_axis_values = tags_pt.sort_values(by='Number of Appearances', ascending=False).head(10)['Number of Appearances'][::-1]\n",
    "title = 'Tags By Frequency'\n",
    "\n",
    "barplot(x_axis_values, y_axis_values, title)"
   ]
  },
  {
   "cell_type": "markdown",
   "metadata": {},
   "source": [
    "View top 10 tags by total views after Dec 31, 2019"
   ]
  },
  {
   "cell_type": "code",
   "execution_count": 166,
   "metadata": {},
   "outputs": [
    {
     "data": {
      "image/png": "[encoded data removed]",
      "text/plain": [
       "<Figure size 720x720 with 1 Axes>"
      ]
     },
     "metadata": {
      "needs_background": "light"
     },
     "output_type": "display_data"
    }
   ],
   "source": [
    "y_axis_values = tags_pt.sort_values(by='Sum of Views', ascending=False).head(10).index[::-1]\n",
    "x_axis_values = tags_pt.sort_values(by='Sum of Views', ascending=False).head(10)['Sum of Views'][::-1]\n",
    "title = 'Tags By Total Views'\n",
    "\n",
    "barplot(x_axis_values, y_axis_values, title)"
   ]
  },
  {
   "cell_type": "markdown",
   "metadata": {},
   "source": [
    "View top 10 tags by combined score"
   ]
  },
  {
   "cell_type": "code",
   "execution_count": 167,
   "metadata": {},
   "outputs": [
    {
     "data": {
      "image/png": "[encoded data removed]",
      "text/plain": [
       "<Figure size 720x720 with 1 Axes>"
      ]
     },
     "metadata": {
      "needs_background": "light"
     },
     "output_type": "display_data"
    }
   ],
   "source": [
    "y_axis_values = tags_pt.sort_values(by='Score', ascending=False).head(10).index[::-1]\n",
    "x_axis_values = tags_pt.sort_values(by='Score', ascending=False).head(10)['Score'][::-1]\n",
    "title = 'Tags By Combined Score'\n",
    "\n",
    "barplot(x_axis_values, y_axis_values, title)"
   ]
  },
  {
   "cell_type": "markdown",
   "metadata": {},
   "source": [
    "## 7"
   ]
  },
  {
   "cell_type": "code",
   "execution_count": null,
   "metadata": {},
   "outputs": [],
   "source": []
  },
  {
   "cell_type": "code",
   "execution_count": null,
   "metadata": {},
   "outputs": [],
   "source": []
  },
  {
   "cell_type": "markdown",
   "metadata": {},
   "source": [
    "## 8"
   ]
  },
  {
   "cell_type": "code",
   "execution_count": null,
   "metadata": {},
   "outputs": [],
   "source": []
  },
  {
   "cell_type": "code",
   "execution_count": null,
   "metadata": {},
   "outputs": [],
   "source": []
  },
  {
   "cell_type": "markdown",
   "metadata": {},
   "source": [
    "## 9"
   ]
  },
  {
   "cell_type": "code",
   "execution_count": null,
   "metadata": {},
   "outputs": [],
   "source": []
  },
  {
   "cell_type": "code",
   "execution_count": null,
   "metadata": {},
   "outputs": [],
   "source": []
  },
  {
   "cell_type": "markdown",
   "metadata": {},
   "source": [
    "## 10"
   ]
  },
  {
   "cell_type": "code",
   "execution_count": null,
   "metadata": {},
   "outputs": [],
   "source": []
  },
  {
   "cell_type": "code",
   "execution_count": null,
   "metadata": {},
   "outputs": [],
   "source": []
  },
  {
   "cell_type": "markdown",
   "metadata": {},
   "source": [
    "## 11"
   ]
  },
  {
   "cell_type": "code",
   "execution_count": null,
   "metadata": {},
   "outputs": [],
   "source": []
  },
  {
   "cell_type": "code",
   "execution_count": null,
   "metadata": {},
   "outputs": [],
   "source": []
  },
  {
   "cell_type": "markdown",
   "metadata": {},
   "source": [
    "## 12"
   ]
  },
  {
   "cell_type": "code",
   "execution_count": null,
   "metadata": {},
   "outputs": [],
   "source": []
  },
  {
   "cell_type": "code",
   "execution_count": null,
   "metadata": {},
   "outputs": [],
   "source": []
  },
  {
   "cell_type": "markdown",
   "metadata": {},
   "source": [
    "## 13"
   ]
  },
  {
   "cell_type": "code",
   "execution_count": null,
   "metadata": {},
   "outputs": [],
   "source": []
  },
  {
   "cell_type": "code",
   "execution_count": null,
   "metadata": {},
   "outputs": [],
   "source": []
  },
  {
   "cell_type": "markdown",
   "metadata": {},
   "source": [
    "## 14"
   ]
  },
  {
   "cell_type": "code",
   "execution_count": null,
   "metadata": {},
   "outputs": [],
   "source": []
  },
  {
   "cell_type": "code",
   "execution_count": null,
   "metadata": {},
   "outputs": [],
   "source": []
  },
  {
   "cell_type": "markdown",
   "metadata": {},
   "source": [
    "## 15"
   ]
  },
  {
   "cell_type": "code",
   "execution_count": null,
   "metadata": {},
   "outputs": [],
   "source": []
  },
  {
   "cell_type": "code",
   "execution_count": null,
   "metadata": {},
   "outputs": [],
   "source": []
  }
 ],
 "metadata": {
  "kernelspec": {
   "display_name": "Python 3",
   "language": "python",
   "name": "python3"
  },
  "language_info": {
   "codemirror_mode": {
    "name": "ipython",
    "version": 3
   },
   "file_extension": ".py",
   "mimetype": "text/x-python",
   "name": "python",
   "nbconvert_exporter": "python",
   "pygments_lexer": "ipython3",
   "version": "3.7.3"
  }
 },
 "nbformat": 4,
 "nbformat_minor": 4
}
